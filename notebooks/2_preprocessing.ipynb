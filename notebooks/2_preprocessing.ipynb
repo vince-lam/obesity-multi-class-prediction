{
 "cells": [
  {
   "cell_type": "markdown",
   "metadata": {},
   "source": [
    "# Pre-processing"
   ]
  },
  {
   "cell_type": "markdown",
   "metadata": {},
   "source": [
    "## Import libraries"
   ]
  },
  {
   "cell_type": "code",
   "execution_count": 34,
   "metadata": {},
   "outputs": [],
   "source": [
    "import pandas as pd\n",
    "import numpy as np"
   ]
  },
  {
   "cell_type": "markdown",
   "metadata": {},
   "source": [
    "## Import data"
   ]
  },
  {
   "cell_type": "code",
   "execution_count": 35,
   "metadata": {},
   "outputs": [],
   "source": [
    "df_train = pd.read_csv(\"../data/raw/train.csv\")\n",
    "df_test = pd.read_csv(\"../data/raw/test.csv\")\n",
    "df_original = pd.read_csv(\"../data/raw/ObesityDataSet.csv\")"
   ]
  },
  {
   "cell_type": "code",
   "execution_count": 36,
   "metadata": {},
   "outputs": [],
   "source": [
    "random_state = 0"
   ]
  },
  {
   "cell_type": "markdown",
   "metadata": {},
   "source": [
    "## Pre-processing"
   ]
  },
  {
   "cell_type": "code",
   "execution_count": 37,
   "metadata": {},
   "outputs": [],
   "source": [
    "target = \"NObeyesdad\"\n",
    "\n",
    "# get numerical and categorical columns\n",
    "numerical_columns = df_original.select_dtypes(include=[np.number]).columns.tolist()\n",
    "categorical_columns = df_original.select_dtypes(include=[object]).columns.tolist()\n",
    "categorical_columns.remove(target)"
   ]
  },
  {
   "cell_type": "markdown",
   "metadata": {},
   "source": [
    "#### Combine train and original dataset"
   ]
  },
  {
   "cell_type": "code",
   "execution_count": 38,
   "metadata": {},
   "outputs": [],
   "source": [
    "train = pd.concat([df_train, df_original]).drop([\"id\"], axis=1).drop_duplicates()\n",
    "test = df_test.drop([\"id\"], axis=1)"
   ]
  },
  {
   "cell_type": "markdown",
   "metadata": {},
   "source": [
    "### Apply one-hot encoding (drop first)"
   ]
  },
  {
   "cell_type": "code",
   "execution_count": 39,
   "metadata": {},
   "outputs": [],
   "source": [
    "train = pd.get_dummies(train, columns=categorical_columns, drop_first=True)\n",
    "test = pd.get_dummies(test, columns=categorical_columns, drop_first=True)"
   ]
  },
  {
   "cell_type": "code",
   "execution_count": 40,
   "metadata": {},
   "outputs": [
    {
     "name": "stdout",
     "output_type": "stream",
     "text": [
      "The encoded Train dataset has 22845 rows and 24 columns\n",
      "The encoded Test dataset has 13840 rows and 23 columns\n"
     ]
    }
   ],
   "source": [
    "# Check shape of processed data\n",
    "print(\n",
    "    f\"The encoded Train dataset has {train.shape[0]} rows and {train.shape[1]} columns\"\n",
    ")\n",
    "print(f\"The encoded Test dataset has {test.shape[0]} rows and {test.shape[1]} columns\")"
   ]
  },
  {
   "cell_type": "code",
   "execution_count": 41,
   "metadata": {},
   "outputs": [],
   "source": [
    "# Save encoded data to csv\n",
    "train.to_csv(\"../data/processed/train.csv\", index=False)\n",
    "test.to_csv(\"../data/processed/test.csv\", index=False)"
   ]
  }
 ],
 "metadata": {
  "kernelspec": {
   "display_name": "obesity-multi-class-prediction-bFHmIcF9-py3.10",
   "language": "python",
   "name": "python3"
  },
  "language_info": {
   "codemirror_mode": {
    "name": "ipython",
    "version": 3
   },
   "file_extension": ".py",
   "mimetype": "text/x-python",
   "name": "python",
   "nbconvert_exporter": "python",
   "pygments_lexer": "ipython3",
   "version": "3.10.9"
  }
 },
 "nbformat": 4,
 "nbformat_minor": 2
}
